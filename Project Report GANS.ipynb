{
 "cells": [
  {
   "cell_type": "markdown",
   "id": "df85f544",
   "metadata": {},
   "source": [
    "## Project Report -- Week 5 Kaggle Getting Started Code Competition: I’m Something of a Painter Myself"
   ]
  },
  {
   "cell_type": "markdown",
   "id": "02e906f6",
   "metadata": {},
   "source": [
    "Project Repository: https://github.com/albert-kepner/Week5_DL_CycleGAN"
   ]
  },
  {
   "cell_type": "markdown",
   "id": "86c9d43a",
   "metadata": {},
   "source": [
    "### Problem Description and Exploratory Data Analysis\n",
    "\n",
    "Please see this link: https://github.com/albert-kepner/Week5_DL_CycleGAN/blob/master/AK_ExploratoryDataAnalysis.ipynb"
   ]
  },
  {
   "cell_type": "markdown",
   "id": "9828b387",
   "metadata": {},
   "source": [
    "## Model Architecture\n",
    "\n",
    "https://github.com/albert-kepner/Week5_DL_CycleGAN/blob/master/AK_ModelArchitecture.ipynb"
   ]
  },
  {
   "cell_type": "markdown",
   "id": "357445ce",
   "metadata": {},
   "source": [
    "## Model Training and Initial Development\n",
    "\n",
    "https://github.com/albert-kepner/Week5_DL_CycleGAN/blob/master/Model_Refinement.ipynb\n"
   ]
  },
  {
   "cell_type": "markdown",
   "id": "2793e084",
   "metadata": {},
   "source": [
    "## Model Refinement\n",
    "\n",
    "https://github.com/albert-kepner/Week5_DL_CycleGAN/blob/master/Model_Refinement.ipynb"
   ]
  },
  {
   "cell_type": "markdown",
   "id": "6c8356e6",
   "metadata": {},
   "source": [
    "## Conclusion\n",
    "\n",
    "https://github.com/albert-kepner/Week5_DL_CycleGAN/blob/master/Conclusion.ipynb"
   ]
  },
  {
   "cell_type": "markdown",
   "id": "03e47c15",
   "metadata": {},
   "source": [
    "## References\n",
    "\n",
    "https://github.com/albert-kepner/Week5_DL_CycleGAN/blob/master/Model_Refinement.ipynb"
   ]
  },
  {
   "cell_type": "code",
   "execution_count": null,
   "id": "140b5d26",
   "metadata": {},
   "outputs": [],
   "source": []
  }
 ],
 "metadata": {
  "kernelspec": {
   "display_name": "Python 3 (ipykernel)",
   "language": "python",
   "name": "python3"
  },
  "language_info": {
   "codemirror_mode": {
    "name": "ipython",
    "version": 3
   },
   "file_extension": ".py",
   "mimetype": "text/x-python",
   "name": "python",
   "nbconvert_exporter": "python",
   "pygments_lexer": "ipython3",
   "version": "3.9.12"
  }
 },
 "nbformat": 4,
 "nbformat_minor": 5
}
