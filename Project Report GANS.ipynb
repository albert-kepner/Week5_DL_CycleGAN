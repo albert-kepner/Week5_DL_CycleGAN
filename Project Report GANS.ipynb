{
 "cells": [
  {
   "cell_type": "markdown",
   "id": "58d27aa9",
   "metadata": {},
   "source": [
    "## Project Report -- Week 5 Kaggle Getting Started Code Competition: I’m Something of a Painter Myself"
   ]
  },
  {
   "cell_type": "markdown",
   "id": "b4c28cc3",
   "metadata": {},
   "source": [
    "Project Repository: https://github.com/albert-kepner/Week5_DL_CycleGAN"
   ]
  },
  {
   "cell_type": "markdown",
   "id": "4259c201",
   "metadata": {},
   "source": [
    "### Problem Description and Exploratory Data Analysis\n",
    "\n",
    "Please see this link: https://github.com/albert-kepner/Week5_DL_CycleGAN/blob/master/AK_ExploratoryDataAnalysis.ipynb"
   ]
  },
  {
   "cell_type": "markdown",
   "id": "90c80ff4",
   "metadata": {},
   "source": [
    "## Model Architecture\n",
    "\n",
    "https://github.com/albert-kepner/Week5_DL_CycleGAN/blob/master/AK_ModelArchitecture.ipynb"
   ]
  },
  {
   "cell_type": "markdown",
   "id": "e740eda8",
   "metadata": {},
   "source": [
    "## Model Training and Initial Development"
   ]
  },
  {
   "cell_type": "markdown",
   "id": "55c23823",
   "metadata": {},
   "source": [
    "## Model Refinement"
   ]
  },
  {
   "cell_type": "markdown",
   "id": "46886448",
   "metadata": {},
   "source": [
    "## Conclusion"
   ]
  },
  {
   "cell_type": "markdown",
   "id": "c66e46fa",
   "metadata": {},
   "source": [
    "## References"
   ]
  },
  {
   "cell_type": "code",
   "execution_count": null,
   "id": "2799fab4",
   "metadata": {},
   "outputs": [],
   "source": []
  }
 ],
 "metadata": {
  "kernelspec": {
   "display_name": "Python 3 (ipykernel)",
   "language": "python",
   "name": "python3"
  },
  "language_info": {
   "codemirror_mode": {
    "name": "ipython",
    "version": 3
   },
   "file_extension": ".py",
   "mimetype": "text/x-python",
   "name": "python",
   "nbconvert_exporter": "python",
   "pygments_lexer": "ipython3",
   "version": "3.9.12"
  }
 },
 "nbformat": 4,
 "nbformat_minor": 5
}
