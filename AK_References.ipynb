{
 "cells": [
  {
   "cell_type": "markdown",
   "id": "241abe67",
   "metadata": {},
   "source": [
    "\n",
    "1. Kaggle Tutorial: Amy Jang Notebook: https://www.kaggle.com/code/amyjang/monet-cyclegan-tutorial/notebook\n",
    "\n",
    "1. Public Github Project: CycleGAN\n",
    "An implementation of CycleGan for learning an image-to-image translation without input-output pairs using Keras.\n",
    "https://github.com/EtokonE/CycleGAN-keras#cyclegan\n",
    "\n",
    "1. Public Kaggle Notebook by SARAVANA KUMAR: https://www.kaggle.com/code/victorsullivan/i-m-something-of-a-painter-myself/notebook\n",
    "\n",
    "1. EBook: Generative Adversarial Networks with Python by Jason Brownlee -- https://machinelearningmastery.com/generative_adversarial_networks/\n",
    "\n"
   ]
  },
  {
   "cell_type": "code",
   "execution_count": null,
   "id": "4a9772a1",
   "metadata": {},
   "outputs": [],
   "source": []
  }
 ],
 "metadata": {
  "kernelspec": {
   "display_name": "Python 3 (ipykernel)",
   "language": "python",
   "name": "python3"
  },
  "language_info": {
   "codemirror_mode": {
    "name": "ipython",
    "version": 3
   },
   "file_extension": ".py",
   "mimetype": "text/x-python",
   "name": "python",
   "nbconvert_exporter": "python",
   "pygments_lexer": "ipython3",
   "version": "3.9.12"
  }
 },
 "nbformat": 4,
 "nbformat_minor": 5
}
